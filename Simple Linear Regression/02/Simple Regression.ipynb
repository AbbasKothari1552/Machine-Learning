{
 "cells": [
  {
   "cell_type": "markdown",
   "id": "a63519b4",
   "metadata": {},
   "source": [
    "# Simple Regression\n"
   ]
  },
  {
   "cell_type": "code",
   "execution_count": 10,
   "id": "c07cd478",
   "metadata": {},
   "outputs": [],
   "source": [
    "import numpy as np\n",
    "import pandas as pd\n",
    "import matplotlib.pyplot as plt"
   ]
  },
  {
   "cell_type": "code",
   "execution_count": 34,
   "id": "e07991ff",
   "metadata": {},
   "outputs": [
    {
     "data": {
      "text/html": [
       "<div>\n",
       "<style scoped>\n",
       "    .dataframe tbody tr th:only-of-type {\n",
       "        vertical-align: middle;\n",
       "    }\n",
       "\n",
       "    .dataframe tbody tr th {\n",
       "        vertical-align: top;\n",
       "    }\n",
       "\n",
       "    .dataframe thead th {\n",
       "        text-align: right;\n",
       "    }\n",
       "</style>\n",
       "<table border=\"1\" class=\"dataframe\">\n",
       "  <thead>\n",
       "    <tr style=\"text-align: right;\">\n",
       "      <th></th>\n",
       "      <th>x</th>\n",
       "      <th>y</th>\n",
       "    </tr>\n",
       "  </thead>\n",
       "  <tbody>\n",
       "    <tr>\n",
       "      <th>0</th>\n",
       "      <td>24.0</td>\n",
       "      <td>21.549452</td>\n",
       "    </tr>\n",
       "    <tr>\n",
       "      <th>1</th>\n",
       "      <td>50.0</td>\n",
       "      <td>47.464463</td>\n",
       "    </tr>\n",
       "    <tr>\n",
       "      <th>2</th>\n",
       "      <td>15.0</td>\n",
       "      <td>17.218656</td>\n",
       "    </tr>\n",
       "    <tr>\n",
       "      <th>3</th>\n",
       "      <td>38.0</td>\n",
       "      <td>36.586398</td>\n",
       "    </tr>\n",
       "    <tr>\n",
       "      <th>4</th>\n",
       "      <td>87.0</td>\n",
       "      <td>87.288984</td>\n",
       "    </tr>\n",
       "    <tr>\n",
       "      <th>5</th>\n",
       "      <td>36.0</td>\n",
       "      <td>32.463875</td>\n",
       "    </tr>\n",
       "    <tr>\n",
       "      <th>6</th>\n",
       "      <td>12.0</td>\n",
       "      <td>10.780897</td>\n",
       "    </tr>\n",
       "    <tr>\n",
       "      <th>7</th>\n",
       "      <td>81.0</td>\n",
       "      <td>80.763399</td>\n",
       "    </tr>\n",
       "    <tr>\n",
       "      <th>8</th>\n",
       "      <td>25.0</td>\n",
       "      <td>24.612151</td>\n",
       "    </tr>\n",
       "    <tr>\n",
       "      <th>9</th>\n",
       "      <td>5.0</td>\n",
       "      <td>6.963319</td>\n",
       "    </tr>\n",
       "    <tr>\n",
       "      <th>10</th>\n",
       "      <td>16.0</td>\n",
       "      <td>11.237573</td>\n",
       "    </tr>\n",
       "    <tr>\n",
       "      <th>11</th>\n",
       "      <td>16.0</td>\n",
       "      <td>13.532902</td>\n",
       "    </tr>\n",
       "    <tr>\n",
       "      <th>12</th>\n",
       "      <td>24.0</td>\n",
       "      <td>24.603239</td>\n",
       "    </tr>\n",
       "    <tr>\n",
       "      <th>13</th>\n",
       "      <td>39.0</td>\n",
       "      <td>39.400500</td>\n",
       "    </tr>\n",
       "    <tr>\n",
       "      <th>14</th>\n",
       "      <td>54.0</td>\n",
       "      <td>48.437538</td>\n",
       "    </tr>\n",
       "    <tr>\n",
       "      <th>15</th>\n",
       "      <td>60.0</td>\n",
       "      <td>61.699003</td>\n",
       "    </tr>\n",
       "    <tr>\n",
       "      <th>16</th>\n",
       "      <td>26.0</td>\n",
       "      <td>26.928324</td>\n",
       "    </tr>\n",
       "    <tr>\n",
       "      <th>17</th>\n",
       "      <td>73.0</td>\n",
       "      <td>70.405205</td>\n",
       "    </tr>\n",
       "    <tr>\n",
       "      <th>18</th>\n",
       "      <td>29.0</td>\n",
       "      <td>29.340924</td>\n",
       "    </tr>\n",
       "    <tr>\n",
       "      <th>19</th>\n",
       "      <td>31.0</td>\n",
       "      <td>25.308952</td>\n",
       "    </tr>\n",
       "  </tbody>\n",
       "</table>\n",
       "</div>"
      ],
      "text/plain": [
       "       x          y\n",
       "0   24.0  21.549452\n",
       "1   50.0  47.464463\n",
       "2   15.0  17.218656\n",
       "3   38.0  36.586398\n",
       "4   87.0  87.288984\n",
       "5   36.0  32.463875\n",
       "6   12.0  10.780897\n",
       "7   81.0  80.763399\n",
       "8   25.0  24.612151\n",
       "9    5.0   6.963319\n",
       "10  16.0  11.237573\n",
       "11  16.0  13.532902\n",
       "12  24.0  24.603239\n",
       "13  39.0  39.400500\n",
       "14  54.0  48.437538\n",
       "15  60.0  61.699003\n",
       "16  26.0  26.928324\n",
       "17  73.0  70.405205\n",
       "18  29.0  29.340924\n",
       "19  31.0  25.308952"
      ]
     },
     "execution_count": 34,
     "metadata": {},
     "output_type": "execute_result"
    }
   ],
   "source": [
    "df = pd.read_csv('Data.csv')\n",
    "# Drop the missing values\n",
    "df = df.dropna()\n",
    "df.head(20)"
   ]
  },
  {
   "cell_type": "code",
   "execution_count": 12,
   "id": "66e2a1a6",
   "metadata": {},
   "outputs": [],
   "source": [
    "# independent & dependent features\n",
    "X = df[['x']]\n",
    "y = df['y']"
   ]
  },
  {
   "cell_type": "code",
   "execution_count": 13,
   "id": "42219b62",
   "metadata": {},
   "outputs": [
    {
     "data": {
      "text/plain": [
       "<matplotlib.collections.PathCollection at 0x1e6e41df550>"
      ]
     },
     "execution_count": 13,
     "metadata": {},
     "output_type": "execute_result"
    },
    {
     "data": {
      "image/png": "[encoded data removed]",
      "text/plain": [
       "<Figure size 640x480 with 1 Axes>"
      ]
     },
     "metadata": {},
     "output_type": "display_data"
    }
   ],
   "source": [
    "plt.scatter(X,y)"
   ]
  },
  {
   "cell_type": "code",
   "execution_count": 14,
   "id": "f78db3b7",
   "metadata": {},
   "outputs": [],
   "source": [
    "# Implement train test spli\n",
    "from sklearn.model_selection import train_test_split"
   ]
  },
  {
   "cell_type": "code",
   "execution_count": 15,
   "id": "ae041edb",
   "metadata": {},
   "outputs": [],
   "source": [
    "X_train,X_test,y_train,y_test = train_test_split(X,y,test_size=.30)"
   ]
  },
  {
   "cell_type": "code",
   "execution_count": 16,
   "id": "bf8a7929",
   "metadata": {},
   "outputs": [],
   "source": [
    "from sklearn.preprocessing import StandardScaler\n",
    "scaler = StandardScaler()"
   ]
  },
  {
   "cell_type": "code",
   "execution_count": 17,
   "id": "805ed45a",
   "metadata": {},
   "outputs": [],
   "source": [
    "X_train = scaler.fit_transform(X_train)\n",
    "X_test = scaler.transform(X_test)"
   ]
  },
  {
   "cell_type": "code",
   "execution_count": 18,
   "id": "e235edfb",
   "metadata": {},
   "outputs": [
    {
     "data": {
      "text/plain": [
       "(489, 1)"
      ]
     },
     "execution_count": 18,
     "metadata": {},
     "output_type": "execute_result"
    }
   ],
   "source": [
    "np.array(X_train).shape"
   ]
  },
  {
   "cell_type": "code",
   "execution_count": 2,
   "id": "ec2b0950",
   "metadata": {},
   "outputs": [],
   "source": [
    "from sklearn.linear_model import LinearRegression\n",
    "reg = LinearRegression()"
   ]
  },
  {
   "cell_type": "code",
   "execution_count": 3,
   "id": "7737ed2a",
   "metadata": {},
   "outputs": [
    {
     "ename": "NameError",
     "evalue": "name 'X_train' is not defined",
     "output_type": "error",
     "traceback": [
      "\u001b[1;31m---------------------------------------------------------------------------\u001b[0m",
      "\u001b[1;31mNameError\u001b[0m                                 Traceback (most recent call last)",
      "Cell \u001b[1;32mIn[3], line 1\u001b[0m\n\u001b[1;32m----> 1\u001b[0m reg\u001b[38;5;241m.\u001b[39mfit(X_train,y_train)\n",
      "\u001b[1;31mNameError\u001b[0m: name 'X_train' is not defined"
     ]
    }
   ],
   "source": [
    "reg.fit(X_train,y_train)"
   ]
  },
  {
   "cell_type": "code",
   "execution_count": 21,
   "id": "483a0a9e",
   "metadata": {},
   "outputs": [
    {
     "name": "stdout",
     "output_type": "stream",
     "text": [
      "Coefficient : [28.85748792]\n",
      "Intercept : 49.72468405706953\n"
     ]
    }
   ],
   "source": [
    "print('Coefficient :', reg.coef_)\n",
    "print('Intercept :', reg.intercept_)"
   ]
  },
  {
   "cell_type": "code",
   "execution_count": 22,
   "id": "d529c611",
   "metadata": {
    "scrolled": true
   },
   "outputs": [
    {
     "data": {
      "text/plain": [
       "[<matplotlib.lines.Line2D at 0x1e6e95f6e50>]"
      ]
     },
     "execution_count": 22,
     "metadata": {},
     "output_type": "execute_result"
    },
    {
     "data": {
      "image/png": "[encoded data removed]",
      "text/plain": [
       "<Figure size 640x480 with 1 Axes>"
      ]
     },
     "metadata": {},
     "output_type": "display_data"
    }
   ],
   "source": [
    "plt.plot(X_train,reg.predict(X_train))"
   ]
  },
  {
   "cell_type": "code",
   "execution_count": 23,
   "id": "bec73f91",
   "metadata": {},
   "outputs": [
    {
     "data": {
      "image/png": "[encoded data removed]",
      "text/plain": [
       "<Figure size 640x480 with 1 Axes>"
      ]
     },
     "metadata": {},
     "output_type": "display_data"
    }
   ],
   "source": [
    "plt.scatter(X_train,y_train,color='red')\n",
    "plt.plot(X_train,reg.predict(X_train),color='blue')\n",
    "plt.show()"
   ]
  },
  {
   "cell_type": "code",
   "execution_count": 24,
   "id": "c8dff576",
   "metadata": {},
   "outputs": [
    {
     "data": {
      "text/plain": [
       "array([ 4.82537839, 15.83729546, 98.92721517, -0.18003846,  9.83079524,\n",
       "        4.82537839, 25.84812916, 57.882797  , 54.87954689, 33.85679612,\n",
       "        3.82429502, 19.84162894, 54.87954689, 50.87521341, 92.92071495,\n",
       "        7.8286285 , 88.91638147, 20.84271231, 51.87629678, 88.91638147,\n",
       "       45.86979656, 85.91313136,  5.82646176, 80.90771451, 54.87954689,\n",
       "       37.8611296 , 30.85354601, 32.85571275, 57.882797  , 43.86762982,\n",
       "       47.8719633 , 55.88063026, 66.89254733, 24.84704579, 86.91421473,\n",
       "       46.87087993,  4.82537839, 86.91421473, 25.84812916, 42.86654645,\n",
       "       47.8719633 , 54.87954689, 88.91638147, 38.86221297, 70.89688081,\n",
       "       57.882797  , 92.92071495, 91.91963158, 50.87521341, 61.88713048,\n",
       "       64.89038059, 57.882797  , 24.84704579, 45.86979656,  7.8286285 ,\n",
       "       76.90338103, 34.85787949,  2.82321165, 56.88171363, 29.85246264,\n",
       "       16.83837883, 84.91204799, 43.86762982, 57.882797  , 66.89254733,\n",
       "       55.88063026, 24.84704579, 94.92288169, 23.84596242, 42.86654645,\n",
       "       37.8611296 , 12.83404535, 60.88604711, 53.87846352, 41.86546308,\n",
       "       85.91313136, 78.90554777, 53.87846352, 98.92721517, 67.8936307 ,\n",
       "       70.89688081, 94.92288169, 87.9152981 , 48.87304667, 27.8502959 ,\n",
       "       63.88929722, 25.84812916,  9.83079524, 94.92288169, 41.86546308,\n",
       "       17.8394622 , 80.90771451,  7.8286285 , 29.85246264, 78.90554777,\n",
       "       24.84704579, 35.85896286, 74.90121429, 20.84271231, 87.9152981 ,\n",
       "       77.9044644 , 64.89038059,  4.82537839, 59.88496374, 72.89904755,\n",
       "       23.84596242, 76.90338103, 92.92071495, 26.84921253, 27.8502959 ,\n",
       "        9.83079524, 31.85462938, 28.85137927, 54.87954689, 94.92288169,\n",
       "       34.85787949, 51.87629678,  4.82537839, 53.87846352, 48.87304667,\n",
       "       69.89579744, 62.88821385, 97.9261318 , 90.91854821, 80.90771451,\n",
       "       25.84812916, 73.90013092, 49.87413004, 50.87521341, 51.87629678,\n",
       "       50.87521341,  9.83079524, 85.91313136, 69.89579744, 10.83187861,\n",
       "       48.87304667, 54.87954689, 24.84704579, 74.90121429, 87.9152981 ,\n",
       "       33.85679612, 70.89688081, 20.84271231, 98.92721517,  6.82754513,\n",
       "       18.84054557, 76.90338103, 57.882797  , 93.92179832,  7.8286285 ,\n",
       "       88.91638147,  3.82429502, 59.88496374, 51.87629678, 15.83729546,\n",
       "       20.84271231, 93.92179832,  2.82321165,  7.8286285 , 19.84162894,\n",
       "       83.91096462, 43.86762982, 56.88171363, 80.90771451, 39.86329634,\n",
       "       90.91854821, 12.83404535, 16.83837883, 22.84487905, 22.84487905,\n",
       "       89.91746484,  8.82971187, 33.85679612, 84.91204799, 48.87304667,\n",
       "       64.89038059, 99.92829854, 86.91421473, 49.87413004, 42.86654645,\n",
       "        4.82537839, 99.92829854,  9.83079524, 92.92071495, 97.9261318 ,\n",
       "       14.83621209, 88.91638147, 49.87413004, 28.85137927, 18.84054557,\n",
       "       20.84271231, 85.91313136, 89.91746484, 44.86871319, 24.84704579,\n",
       "       57.882797  , 23.84596242, 40.86437971, 28.85137927, 43.86762982,\n",
       "       67.8936307 ,  3.82429502, 92.92071495, 70.89688081, 60.88604711,\n",
       "       25.84812916, 98.92721517, 60.88604711, 99.92829854,  8.82971187])"
      ]
     },
     "execution_count": 24,
     "metadata": {},
     "output_type": "execute_result"
    }
   ],
   "source": [
    "y_pred = reg.predict(X_test)\n",
    "y_pred"
   ]
  },
  {
   "cell_type": "code",
   "execution_count": 25,
   "id": "e8367202",
   "metadata": {},
   "outputs": [],
   "source": [
    "# performance \n",
    "from sklearn.metrics import mean_absolute_error, mean_squared_error"
   ]
  },
  {
   "cell_type": "code",
   "execution_count": 26,
   "id": "35cf9ff0",
   "metadata": {},
   "outputs": [
    {
     "name": "stdout",
     "output_type": "stream",
     "text": [
      "7.86702782201722\n",
      "2.220592556565243\n",
      "2.804822244281662\n"
     ]
    }
   ],
   "source": [
    "mse = mean_squared_error(y_test,y_pred)\n",
    "mae = mean_absolute_error(y_test,y_pred)\n",
    "rmse = np.sqrt(mse)\n",
    "print(mse)\n",
    "print(mae)\n",
    "print(rmse)"
   ]
  },
  {
   "cell_type": "code",
   "execution_count": 27,
   "id": "de5932b9",
   "metadata": {},
   "outputs": [],
   "source": [
    "# find the score\n",
    "from sklearn.metrics import r2_score\n",
    "score = r2_score(y_test,y_pred)"
   ]
  },
  {
   "cell_type": "code",
   "execution_count": 28,
   "id": "6671c1a5",
   "metadata": {},
   "outputs": [
    {
     "data": {
      "text/plain": [
       "0.9908373804077453"
      ]
     },
     "execution_count": 28,
     "metadata": {},
     "output_type": "execute_result"
    }
   ],
   "source": [
    "score"
   ]
  },
  {
   "cell_type": "markdown",
   "id": "21fd6328",
   "metadata": {},
   "source": [
    "# OLS linear Regression"
   ]
  },
  {
   "cell_type": "code",
   "execution_count": 29,
   "id": "f08c61e8",
   "metadata": {},
   "outputs": [],
   "source": [
    "import statsmodels.api as sm"
   ]
  },
  {
   "cell_type": "code",
   "execution_count": 31,
   "id": "2b8588c5",
   "metadata": {},
   "outputs": [],
   "source": [
    "model = sm.OLS(y_train,X_train).fit()\n",
    "prediction = model.predict(X_test)"
   ]
  },
  {
   "cell_type": "code",
   "execution_count": null,
   "id": "4877dc90",
   "metadata": {},
   "outputs": [],
   "source": [
    "prediction"
   ]
  },
  {
   "cell_type": "code",
   "execution_count": 33,
   "id": "e7e6ba0f",
   "metadata": {},
   "outputs": [
    {
     "name": "stdout",
     "output_type": "stream",
     "text": [
      "                                 OLS Regression Results                                \n",
      "=======================================================================================\n",
      "Dep. Variable:                      y   R-squared (uncentered):                   0.251\n",
      "Model:                            OLS   Adj. R-squared (uncentered):              0.250\n",
      "Method:                 Least Squares   F-statistic:                              163.8\n",
      "Date:                Fri, 26 Apr 2024   Prob (F-statistic):                    1.51e-32\n",
      "Time:                        09:28:12   Log-Likelihood:                         -2604.9\n",
      "No. Observations:                 489   AIC:                                      5212.\n",
      "Df Residuals:                     488   BIC:                                      5216.\n",
      "Df Model:                           1                                                  \n",
      "Covariance Type:            nonrobust                                                  \n",
      "==============================================================================\n",
      "                 coef    std err          t      P>|t|      [0.025      0.975]\n",
      "------------------------------------------------------------------------------\n",
      "x1            28.8575      2.255     12.800      0.000      24.428      33.287\n",
      "==============================================================================\n",
      "Omnibus:                        0.012   Durbin-Watson:                   0.006\n",
      "Prob(Omnibus):                  0.994   Jarque-Bera (JB):                0.007\n",
      "Skew:                          -0.006   Prob(JB):                        0.996\n",
      "Kurtosis:                       2.986   Cond. No.                         1.00\n",
      "==============================================================================\n",
      "\n",
      "Notes:\n",
      "[1] R² is computed without centering (uncentered) since the model does not contain a constant.\n",
      "[2] Standard Errors assume that the covariance matrix of the errors is correctly specified.\n"
     ]
    }
   ],
   "source": [
    "print(model.summary())"
   ]
  },
  {
   "cell_type": "code",
   "execution_count": 36,
   "id": "e9a45034",
   "metadata": {},
   "outputs": [
    {
     "name": "stderr",
     "output_type": "stream",
     "text": [
      "C:\\Users\\ask50\\anaconda3\\Lib\\site-packages\\sklearn\\base.py:493: UserWarning: X does not have valid feature names, but StandardScaler was fitted with feature names\n",
      "  warnings.warn(\n"
     ]
    },
    {
     "data": {
      "text/plain": [
       "array([27.8502959])"
      ]
     },
     "execution_count": 36,
     "metadata": {},
     "output_type": "execute_result"
    }
   ],
   "source": [
    "# Prediction for new data\n",
    "# reg.predict([[28]]) # **mistake** Haven't transform the data.\n",
    "reg.predict(scaler.transform([[28]]))"
   ]
  },
  {
   "cell_type": "code",
   "execution_count": null,
   "id": "b64dac91",
   "metadata": {},
   "outputs": [],
   "source": []
  }
 ],
 "metadata": {
  "kernelspec": {
   "display_name": "Python 3 (ipykernel)",
   "language": "python",
   "name": "python3"
  },
  "language_info": {
   "codemirror_mode": {
    "name": "ipython",
    "version": 3
   },
   "file_extension": ".py",
   "mimetype": "text/x-python",
   "name": "python",
   "nbconvert_exporter": "python",
   "pygments_lexer": "ipython3",
   "version": "3.11.5"
  }
 },
 "nbformat": 4,
 "nbformat_minor": 5
}

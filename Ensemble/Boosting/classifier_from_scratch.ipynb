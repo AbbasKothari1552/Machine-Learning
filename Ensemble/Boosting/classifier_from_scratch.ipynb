{
 "cells": [
  {
   "cell_type": "markdown",
   "id": "195d20db-e539-42ca-99e6-ed0a5297eca3",
   "metadata": {},
   "source": [
    "# AdaBoost Classifier Implimentation From Scratch"
   ]
  },
  {
   "cell_type": "code",
   "execution_count": 6,
   "id": "08c32ab6-81ce-4dae-bda2-75e93c45f0c5",
   "metadata": {},
   "outputs": [],
   "source": [
    "import numpy as np\n",
    "import pandas as pd\n",
    "from matplotlib import pyplot as plt\n",
    "import seaborn as sns\n",
    "from mlxtend.plotting import plot_decision_regions"
   ]
  },
  {
   "cell_type": "markdown",
   "id": "0e3727f3-c2a8-4fc0-a66e-446d1ac733db",
   "metadata": {},
   "source": [
    "### create a Dataset"
   ]
  },
  {
   "cell_type": "code",
   "execution_count": 412,
   "id": "17f22527-9c41-4b82-8668-16cbaf02141a",
   "metadata": {},
   "outputs": [],
   "source": [
    "from sklearn.datasets import make_classification\n",
    "\n",
    "X, y = make_classification(\n",
    "    n_samples=20,    # Number of samples\n",
    "    n_features=2,    # Total number of features\n",
    "    n_informative=1, # Number of informative features\n",
    "    n_redundant=0,   # Number of redundant features\n",
    "    n_classes=2,     # Number of target classes\n",
    "    n_clusters_per_class=1,\n",
    ")"
   ]
  },
  {
   "cell_type": "code",
   "execution_count": 413,
   "id": "9c769e48-dd2d-4b8d-937d-4317668bd8d9",
   "metadata": {},
   "outputs": [
    {
     "data": {
      "text/plain": [
       "(20,)"
      ]
     },
     "execution_count": 413,
     "metadata": {},
     "output_type": "execute_result"
    }
   ],
   "source": [
    "y.shape"
   ]
  },
  {
   "cell_type": "code",
   "execution_count": 414,
   "id": "de8dc02f-670d-4303-8577-5c954d2b4630",
   "metadata": {},
   "outputs": [],
   "source": [
    "df = pd.DataFrame(X)"
   ]
  },
  {
   "cell_type": "code",
   "execution_count": 415,
   "id": "100da00c-ed72-491f-a153-b3fd8212b0dc",
   "metadata": {},
   "outputs": [
    {
     "data": {
      "text/html": [
       "<div>\n",
       "<style scoped>\n",
       "    .dataframe tbody tr th:only-of-type {\n",
       "        vertical-align: middle;\n",
       "    }\n",
       "\n",
       "    .dataframe tbody tr th {\n",
       "        vertical-align: top;\n",
       "    }\n",
       "\n",
       "    .dataframe thead th {\n",
       "        text-align: right;\n",
       "    }\n",
       "</style>\n",
       "<table border=\"1\" class=\"dataframe\">\n",
       "  <thead>\n",
       "    <tr style=\"text-align: right;\">\n",
       "      <th></th>\n",
       "      <th>0</th>\n",
       "      <th>1</th>\n",
       "    </tr>\n",
       "  </thead>\n",
       "  <tbody>\n",
       "    <tr>\n",
       "      <th>0</th>\n",
       "      <td>1.677525</td>\n",
       "      <td>0.872237</td>\n",
       "    </tr>\n",
       "    <tr>\n",
       "      <th>1</th>\n",
       "      <td>-0.933648</td>\n",
       "      <td>-0.246199</td>\n",
       "    </tr>\n",
       "    <tr>\n",
       "      <th>2</th>\n",
       "      <td>-0.493365</td>\n",
       "      <td>0.760188</td>\n",
       "    </tr>\n",
       "    <tr>\n",
       "      <th>3</th>\n",
       "      <td>-1.652104</td>\n",
       "      <td>-1.163156</td>\n",
       "    </tr>\n",
       "    <tr>\n",
       "      <th>4</th>\n",
       "      <td>1.828228</td>\n",
       "      <td>-1.151223</td>\n",
       "    </tr>\n",
       "  </tbody>\n",
       "</table>\n",
       "</div>"
      ],
      "text/plain": [
       "          0         1\n",
       "0  1.677525  0.872237\n",
       "1 -0.933648 -0.246199\n",
       "2 -0.493365  0.760188\n",
       "3 -1.652104 -1.163156\n",
       "4  1.828228 -1.151223"
      ]
     },
     "execution_count": 415,
     "metadata": {},
     "output_type": "execute_result"
    }
   ],
   "source": [
    "df.head()"
   ]
  },
  {
   "cell_type": "code",
   "execution_count": 416,
   "id": "f6d1ec81-75a0-499f-872f-92bb0cd9b09c",
   "metadata": {},
   "outputs": [],
   "source": [
    "df['label'] = y"
   ]
  },
  {
   "cell_type": "code",
   "execution_count": 417,
   "id": "1a00abeb-d695-4158-8e21-76ed567d0d32",
   "metadata": {},
   "outputs": [
    {
     "data": {
      "text/plain": [
       "0     1\n",
       "1     0\n",
       "2     1\n",
       "3     1\n",
       "4     0\n",
       "5     0\n",
       "6     0\n",
       "7     1\n",
       "8     1\n",
       "9     0\n",
       "10    0\n",
       "11    0\n",
       "12    0\n",
       "13    0\n",
       "14    1\n",
       "15    1\n",
       "16    1\n",
       "17    1\n",
       "18    1\n",
       "19    1\n",
       "Name: label, dtype: int32"
      ]
     },
     "execution_count": 417,
     "metadata": {},
     "output_type": "execute_result"
    }
   ],
   "source": [
    "df['label']"
   ]
  },
  {
   "cell_type": "code",
   "execution_count": 418,
   "id": "59486747-41f0-4ae2-a879-606a054440c7",
   "metadata": {},
   "outputs": [
    {
     "data": {
      "text/html": [
       "<div>\n",
       "<style scoped>\n",
       "    .dataframe tbody tr th:only-of-type {\n",
       "        vertical-align: middle;\n",
       "    }\n",
       "\n",
       "    .dataframe tbody tr th {\n",
       "        vertical-align: top;\n",
       "    }\n",
       "\n",
       "    .dataframe thead th {\n",
       "        text-align: right;\n",
       "    }\n",
       "</style>\n",
       "<table border=\"1\" class=\"dataframe\">\n",
       "  <thead>\n",
       "    <tr style=\"text-align: right;\">\n",
       "      <th></th>\n",
       "      <th>0</th>\n",
       "      <th>1</th>\n",
       "      <th>label</th>\n",
       "    </tr>\n",
       "  </thead>\n",
       "  <tbody>\n",
       "    <tr>\n",
       "      <th>0</th>\n",
       "      <td>1.677525</td>\n",
       "      <td>0.872237</td>\n",
       "      <td>1</td>\n",
       "    </tr>\n",
       "    <tr>\n",
       "      <th>1</th>\n",
       "      <td>-0.933648</td>\n",
       "      <td>-0.246199</td>\n",
       "      <td>0</td>\n",
       "    </tr>\n",
       "    <tr>\n",
       "      <th>2</th>\n",
       "      <td>-0.493365</td>\n",
       "      <td>0.760188</td>\n",
       "      <td>1</td>\n",
       "    </tr>\n",
       "    <tr>\n",
       "      <th>3</th>\n",
       "      <td>-1.652104</td>\n",
       "      <td>-1.163156</td>\n",
       "      <td>1</td>\n",
       "    </tr>\n",
       "    <tr>\n",
       "      <th>4</th>\n",
       "      <td>1.828228</td>\n",
       "      <td>-1.151223</td>\n",
       "      <td>0</td>\n",
       "    </tr>\n",
       "  </tbody>\n",
       "</table>\n",
       "</div>"
      ],
      "text/plain": [
       "          0         1  label\n",
       "0  1.677525  0.872237      1\n",
       "1 -0.933648 -0.246199      0\n",
       "2 -0.493365  0.760188      1\n",
       "3 -1.652104 -1.163156      1\n",
       "4  1.828228 -1.151223      0"
      ]
     },
     "execution_count": 418,
     "metadata": {},
     "output_type": "execute_result"
    }
   ],
   "source": [
    "df.head()"
   ]
  },
  {
   "cell_type": "code",
   "execution_count": 419,
   "id": "9cbb6c17-e4d9-48d4-b7c1-b9609b6065ab",
   "metadata": {},
   "outputs": [
    {
     "data": {
      "text/plain": [
       "<Axes: xlabel='0', ylabel='1'>"
      ]
     },
     "execution_count": 419,
     "metadata": {},
     "output_type": "execute_result"
    },
    {
     "data": {
      "image/png": "[encoded data removed]",
      "text/plain": [
       "<Figure size 640x480 with 1 Axes>"
      ]
     },
     "metadata": {},
     "output_type": "display_data"
    }
   ],
   "source": [
    "sns.scatterplot(x=df[0], y=df[1], hue=df['label'])"
   ]
  },
  {
   "cell_type": "markdown",
   "id": "e7ed84a9-d98d-4392-8ecc-d5a9a4afc514",
   "metadata": {},
   "source": [
    "### Class of AdaBoost"
   ]
  },
  {
   "cell_type": "code",
   "execution_count": 362,
   "id": "ae300e6b-490b-46db-a2df-3efee61c48ee",
   "metadata": {},
   "outputs": [],
   "source": [
    "class AdaBoostClassifier:\n",
    "    \n",
    "    model_weight = 0\n",
    "    indices = []\n",
    "    \n",
    "    def __init__(self, dt, df):\n",
    "        self.dt = dt\n",
    "        self.df_copy = df.copy()\n",
    "        self.df = df.copy()\n",
    "        self.X = np.array(self.df.iloc[:, :-1])\n",
    "        self.y = np.array(self.df.iloc[:,-1])\n",
    "\n",
    "    def assign_equal_weights(self):\n",
    "        self.df['weights'] = 1/self.df.shape[0]\n",
    "\n",
    "    def train_model(self):\n",
    "        self.dt.fit(self.X, self.y)\n",
    "\n",
    "    def prediction(self):\n",
    "        self.df['y_pred'] = self.dt.predict(self.X)\n",
    "        return self.df\n",
    "\n",
    "    def alpha(self):\n",
    "        t_error = 0\n",
    "        for _, row in self.df.iterrows():\n",
    "            if row['label'] != row['y_pred']:\n",
    "                t_error += row['weights']\n",
    "\n",
    "        # Avoid division by zero\n",
    "        if t_error == 0:\n",
    "            t_error = 1e-10\n",
    "\n",
    "        self.model_weight = 0.5 * np.log((1 - t_error) / t_error)\n",
    "        return self.model_weight\n",
    "    \n",
    "    def upsampling(self):\n",
    "        self.df['weights'] = self.df.apply(\n",
    "            lambda row: row['weights'] * np.exp(-self.model_weight) if row['label'] == row['y_pred'] \n",
    "            else row['weights'] * np.exp(self.model_weight), axis=1\n",
    "        )\n",
    "\n",
    "    def normalize(self):\n",
    "        # Normalize weights so they sum up to 1\n",
    "        total_weight = self.df['weights'].sum()\n",
    "        self.df['weights'] = self.df['weights'] / total_weight\n",
    "\n",
    "    def upper_lower_range(self):\n",
    "        self.df['upper_range'] = np.cumsum(self.df['weights'])\n",
    "        self.df['lower_range'] = self.df['upper_range'] - self.df['weights']\n",
    "        \n",
    "    def generate_dataset(self):\n",
    "        # clear indices before starting\n",
    "        self.indices = []\n",
    "        \n",
    "        size = self.df.shape[0]\n",
    "        \n",
    "        for _ in range(size):\n",
    "            num = np.random.random()\n",
    "            for index, row in self.df.iterrows():\n",
    "                if num > row['lower_range'] and num < row['upper_range']:\n",
    "                    self.indices.append(index)\n",
    "                    \n",
    "        return self.indices\n",
    "    \n",
    "    def create_dataframe(self):\n",
    "        # Create a new DataFrame from selected indices, dropping the unwanted columns inplace\n",
    "        new_df = self.df.iloc[self.indices]\n",
    "        new_df.drop(columns=['lower_range', 'upper_range', 'weights', 'y_pred'], inplace=True)\n",
    "        \n",
    "        return new_df\n",
    "    \n",
    "                "
   ]
  },
  {
   "cell_type": "code",
   "execution_count": 397,
   "id": "762216b9-49cb-48f0-812a-0597a17ae797",
   "metadata": {},
   "outputs": [],
   "source": [
    "class AdaBoostProcess:\n",
    "\n",
    "    def __init__(self, base_model, data, n_estimators):\n",
    "        self.base_model = base_model\n",
    "        self.data = data\n",
    "        self.n_estimators = n_estimators\n",
    "        self.models = []\n",
    "        self.alphas = []\n",
    "\n",
    "    def fit(self):\n",
    "        current_data = self.data.copy()\n",
    "\n",
    "        for i in range(self.n_estimators):\n",
    "            print(f\"Training model {i + 1}/{self.n_estimators}...\")\n",
    "\n",
    "            # Step 1: Initialize AdaBoostClassifier with the current data\n",
    "            ada = AdaBoostClassifier(self.base_model, current_data)\n",
    "\n",
    "            # Step 2: Assign equal weights\n",
    "            ada.assign_equal_weights()\n",
    "\n",
    "            # Step 3: Train the model\n",
    "            ada.train_model()\n",
    "\n",
    "            # Step 4: Make predictions\n",
    "            ada.prediction()\n",
    "\n",
    "            # Step 5: Calculate model weight\n",
    "            model_weight = ada.alpha()\n",
    "            self.alphas.append(model_weight)\n",
    "\n",
    "            # Step 6: Upsample and normalize weights\n",
    "            ada.upsampling()\n",
    "            ada.normalize()\n",
    "\n",
    "            # Step 7: Calculate upper and lower ranges for sampling\n",
    "            ada.upper_lower_range()\n",
    "\n",
    "            # Step 8: Generate new dataset\n",
    "            indices = ada.generate_dataset()\n",
    "            current_data = ada.create_dataframe()  # Update dataset for the next iteration\n",
    "\n",
    "            # Step 9: Store the trained model\n",
    "            self.models.append(ada.dt)\n",
    "\n",
    "        print(\"Training complete!\")\n",
    "        return self.models, self.alphas\n",
    "\n",
    "    def predict(self, X):\n",
    "\n",
    "        predicts = np.zeros(X.shape[0])\n",
    "\n",
    "        for model, alpha in zip(self.models, self.alphas):\n",
    "\n",
    "            pred = model.predict(X)\n",
    "            pred = np.where(pred == 0, -1, 1)\n",
    "\n",
    "            predicts += alpha * pred\n",
    "\n",
    "        final_prediction = np.where(predicts > 0, 1, 0)\n",
    "\n",
    "        return final_prediction "
   ]
  },
  {
   "cell_type": "code",
   "execution_count": 420,
   "id": "5d32ed47-1b3c-4e15-9f24-09160a02aca3",
   "metadata": {},
   "outputs": [],
   "source": [
    "from sklearn.tree import DecisionTreeClassifier\n",
    "\n",
    "dt = DecisionTreeClassifier(max_depth=1)"
   ]
  },
  {
   "cell_type": "code",
   "execution_count": 431,
   "id": "68d47f57-8ef3-4a2a-955b-45ba424cbf24",
   "metadata": {},
   "outputs": [
    {
     "name": "stdout",
     "output_type": "stream",
     "text": [
      "Training model 1/5...\n",
      "Training model 2/5...\n",
      "Training model 3/5...\n",
      "Training model 4/5...\n",
      "Training model 5/5...\n",
      "Training complete!\n"
     ]
    },
    {
     "name": "stderr",
     "output_type": "stream",
     "text": [
      "C:\\Users\\ask50\\AppData\\Local\\Temp\\ipykernel_21220\\2605241108.py:68: SettingWithCopyWarning: \n",
      "A value is trying to be set on a copy of a slice from a DataFrame\n",
      "\n",
      "See the caveats in the documentation: https://pandas.pydata.org/pandas-docs/stable/user_guide/indexing.html#returning-a-view-versus-a-copy\n",
      "  new_df.drop(columns=['lower_range', 'upper_range', 'weights', 'y_pred'], inplace=True)\n",
      "C:\\Users\\ask50\\AppData\\Local\\Temp\\ipykernel_21220\\2605241108.py:68: SettingWithCopyWarning: \n",
      "A value is trying to be set on a copy of a slice from a DataFrame\n",
      "\n",
      "See the caveats in the documentation: https://pandas.pydata.org/pandas-docs/stable/user_guide/indexing.html#returning-a-view-versus-a-copy\n",
      "  new_df.drop(columns=['lower_range', 'upper_range', 'weights', 'y_pred'], inplace=True)\n",
      "C:\\Users\\ask50\\AppData\\Local\\Temp\\ipykernel_21220\\2605241108.py:68: SettingWithCopyWarning: \n",
      "A value is trying to be set on a copy of a slice from a DataFrame\n",
      "\n",
      "See the caveats in the documentation: https://pandas.pydata.org/pandas-docs/stable/user_guide/indexing.html#returning-a-view-versus-a-copy\n",
      "  new_df.drop(columns=['lower_range', 'upper_range', 'weights', 'y_pred'], inplace=True)\n",
      "C:\\Users\\ask50\\AppData\\Local\\Temp\\ipykernel_21220\\2605241108.py:68: SettingWithCopyWarning: \n",
      "A value is trying to be set on a copy of a slice from a DataFrame\n",
      "\n",
      "See the caveats in the documentation: https://pandas.pydata.org/pandas-docs/stable/user_guide/indexing.html#returning-a-view-versus-a-copy\n",
      "  new_df.drop(columns=['lower_range', 'upper_range', 'weights', 'y_pred'], inplace=True)\n",
      "C:\\Users\\ask50\\AppData\\Local\\Temp\\ipykernel_21220\\2605241108.py:68: SettingWithCopyWarning: \n",
      "A value is trying to be set on a copy of a slice from a DataFrame\n",
      "\n",
      "See the caveats in the documentation: https://pandas.pydata.org/pandas-docs/stable/user_guide/indexing.html#returning-a-view-versus-a-copy\n",
      "  new_df.drop(columns=['lower_range', 'upper_range', 'weights', 'y_pred'], inplace=True)\n"
     ]
    },
    {
     "data": {
      "text/plain": [
       "([DecisionTreeClassifier(max_depth=1),\n",
       "  DecisionTreeClassifier(max_depth=1),\n",
       "  DecisionTreeClassifier(max_depth=1),\n",
       "  DecisionTreeClassifier(max_depth=1),\n",
       "  DecisionTreeClassifier(max_depth=1)],\n",
       " [1.0986122886681098,\n",
       "  0.8673005276940532,\n",
       "  11.512925464920228,\n",
       "  11.512925464920228,\n",
       "  11.512925464920228])"
      ]
     },
     "execution_count": 431,
     "metadata": {},
     "output_type": "execute_result"
    }
   ],
   "source": [
    "ada = AdaBoostProcess(dt, df, 5)\n",
    "ada.fit()"
   ]
  },
  {
   "cell_type": "code",
   "execution_count": 432,
   "id": "6ee3fd63-1b59-4a33-b688-8fe2a1734e52",
   "metadata": {},
   "outputs": [
    {
     "data": {
      "text/plain": [
       "(20, 2)"
      ]
     },
     "execution_count": 432,
     "metadata": {},
     "output_type": "execute_result"
    }
   ],
   "source": [
    "X.shape"
   ]
  },
  {
   "cell_type": "code",
   "execution_count": 433,
   "id": "337acfa2-ea09-4d3e-82e3-f526fcef5ba8",
   "metadata": {
    "scrolled": true
   },
   "outputs": [],
   "source": [
    "y_pred = ada.predict(X)"
   ]
  },
  {
   "cell_type": "code",
   "execution_count": 439,
   "id": "dbee8022-e010-445e-b42a-aac5f6a184cf",
   "metadata": {},
   "outputs": [
    {
     "name": "stdout",
     "output_type": "stream",
     "text": [
      "[1 0 1 1 0 0 0 1 1 0 0 0 0 0 1 1 1 1 1 1] [1 1 1 1 1 1 1 1 1 1 1 1 1 1 1 1 1 1 1 1]\n"
     ]
    }
   ],
   "source": [
    "print(y, y_pred)"
   ]
  },
  {
   "cell_type": "code",
   "execution_count": 434,
   "id": "7294bc11-2c02-4edb-be98-3d42a98dd8d0",
   "metadata": {},
   "outputs": [
    {
     "data": {
      "text/plain": [
       "0.55"
      ]
     },
     "execution_count": 434,
     "metadata": {},
     "output_type": "execute_result"
    }
   ],
   "source": [
    "from sklearn.metrics import accuracy_score\n",
    "\n",
    "accuracy_score(y_pred, y)"
   ]
  },
  {
   "cell_type": "code",
   "execution_count": 438,
   "id": "e40955c6-95dd-46bf-80d7-7cbc48a79b2a",
   "metadata": {},
   "outputs": [
    {
     "data": {
      "text/plain": [
       "<Axes: >"
      ]
     },
     "execution_count": 438,
     "metadata": {},
     "output_type": "execute_result"
    },
    {
     "data": {
      "image/png": "[encoded data removed]",
      "text/plain": [
       "<Figure size 640x480 with 1 Axes>"
      ]
     },
     "metadata": {},
     "output_type": "display_data"
    }
   ],
   "source": [
    "plot_decision_regions(X, y, clf=ada.models[2], legend=2)\n"
   ]
  },
  {
   "cell_type": "code",
   "execution_count": null,
   "id": "49238567-de1d-45f3-9215-ed10378431af",
   "metadata": {},
   "outputs": [],
   "source": []
  }
 ],
 "metadata": {
  "kernelspec": {
   "display_name": "Python 3 (ipykernel)",
   "language": "python",
   "name": "python3"
  },
  "language_info": {
   "codemirror_mode": {
    "name": "ipython",
    "version": 3
   },
   "file_extension": ".py",
   "mimetype": "text/x-python",
   "name": "python",
   "nbconvert_exporter": "python",
   "pygments_lexer": "ipython3",
   "version": "3.12.4"
  }
 },
 "nbformat": 4,
 "nbformat_minor": 5
}

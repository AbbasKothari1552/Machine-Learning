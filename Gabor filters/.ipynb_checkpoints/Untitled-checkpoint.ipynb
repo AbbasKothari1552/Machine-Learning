{
 "cells": [
  {
   "cell_type": "markdown",
   "id": "21df3573",
   "metadata": {},
   "source": [
    "# Gabor Filters"
   ]
  },
  {
   "cell_type": "code",
   "execution_count": null,
   "id": "1f15d266",
   "metadata": {},
   "outputs": [],
   "source": [
    "import cv2\n",
    "print(cv2.__version__)"
   ]
  },
  {
   "cell_type": "code",
   "execution_count": null,
   "id": "3178205d",
   "metadata": {},
   "outputs": [],
   "source": [
    "import numpy as np\n",
    "import matplotlib.pyplot as plt"
   ]
  },
  {
   "cell_type": "code",
   "execution_count": null,
   "id": "d3795711",
   "metadata": {},
   "outputs": [],
   "source": [
    "ksize = 80\n",
    "sigma = 80\n",
    "theta = 1*np.pi/10\n",
    "lambd = 1*np.pi/2\n",
    "gamma = 0.5\n",
    "psi = 0\n",
    "kernel = cv2.getGaborKernel((ksize, ksize), sigma, theta, lambd, gamma, psi, ktype=cv2.CV_32F)"
   ]
  },
  {
   "cell_type": "code",
   "execution_count": null,
   "id": "38b80c67",
   "metadata": {},
   "outputs": [],
   "source": [
    "plt.imshow(kernel)"
   ]
  },
  {
   "cell_type": "code",
   "execution_count": null,
   "id": "f05eded6",
   "metadata": {},
   "outputs": [],
   "source": [
    "image = cv2.imread('HdpeBottle1.jpeg')\n",
    "img = cv2.cvtColor(image, cv2.COLOR_BGR2GRAY)\n",
    "fimg = cv2.filter2D(img, cv2.CV_8UC3, kernel)\n",
    "cv2.imshow('OG',image)\n",
    "cv2.waitKey()\n",
    "cv2.destroyAllWindows()"
   ]
  },
  {
   "cell_type": "code",
   "execution_count": null,
   "id": "eccbbd8b",
   "metadata": {},
   "outputs": [],
   "source": [
    "# secong image of hdpe\n",
    "image2 = cv2.imread('HdpeBottle2.jpeg')\n",
    "img2 = cv2.cvtColor(image2, cv2.COLOR_BGR2GRAY)\n",
    "\n",
    "fimg2 = cv2.filter2D(img2, cv2.CV_8UC3, kernel)\n",
    "cv2.imshow('OG',image2)\n",
    "cv2.waitKey()\n",
    "cv2.destroyAllWindows()"
   ]
  },
  {
   "cell_type": "code",
   "execution_count": null,
   "id": "2ad2cacb",
   "metadata": {},
   "outputs": [],
   "source": [
    "# Pet plastic bottle image\n",
    "image3 = cv2.imread('PetBottle.jpeg')\n",
    "if image3 is None:\n",
    "    print(\"Error\")\n",
    "else:\n",
    "    img3 = cv2.cvtColor(image3, cv2.COLOR_BGR2GRAY)\n",
    "\n",
    "    fimg3 = cv2.filter2D(img3, cv2.CV_8UC3, kernel)\n",
    "    cv2.imshow('OG',image3)\n",
    "    cv2.waitKey()\n",
    "    cv2.destroyAllWindows()"
   ]
  },
  {
   "cell_type": "code",
   "execution_count": null,
   "id": "91278076",
   "metadata": {},
   "outputs": [],
   "source": [
    "cv2.imshow('Kernel Image', kernel)\n",
    "cv2.imshow('HDPE 1',fimg)\n",
    "cv2.imshow('HDPE 2',fimg2)\n",
    "cv2.imshow('PET Bottle',fimg3)\n",
    "cv2.waitKey()\n",
    "cv2.destroyAllWindows()"
   ]
  },
  {
   "cell_type": "code",
   "execution_count": null,
   "id": "fff57645",
   "metadata": {},
   "outputs": [],
   "source": []
  }
 ],
 "metadata": {
  "kernelspec": {
   "display_name": "Python 3 (ipykernel)",
   "language": "python",
   "name": "python3"
  },
  "language_info": {
   "codemirror_mode": {
    "name": "ipython",
    "version": 3
   },
   "file_extension": ".py",
   "mimetype": "text/x-python",
   "name": "python",
   "nbconvert_exporter": "python",
   "pygments_lexer": "ipython3",
   "version": "3.11.5"
  }
 },
 "nbformat": 4,
 "nbformat_minor": 5
}
